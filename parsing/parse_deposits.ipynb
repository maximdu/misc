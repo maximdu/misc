{
 "cells": [
  {
   "cell_type": "markdown",
   "id": "fa322a6e",
   "metadata": {},
   "source": [
    "**Download and parse interest rates for deposits**\n",
    "\n",
    "Was used for my bachelor's thesis"
   ]
  },
  {
   "cell_type": "code",
   "execution_count": null,
   "id": "6c0cd133",
   "metadata": {},
   "outputs": [],
   "source": [
    "import requests\n",
    "import pandas as pd\n",
    "from bs4 import BeautifulSoup"
   ]
  },
  {
   "cell_type": "code",
   "execution_count": null,
   "id": "d0e65a83",
   "metadata": {},
   "outputs": [],
   "source": [
    "def get_soup(page_int):\n",
    "    r = requests.get(f'https://www.banki.ru/products/deposits/?page={page_int}')\n",
    "    r_text = r.content.decode('utf-8')\n",
    "    soup = BeautifulSoup(r_text)\n",
    "    return soup"
   ]
  },
  {
   "cell_type": "code",
   "execution_count": null,
   "id": "5faa56a3",
   "metadata": {},
   "outputs": [],
   "source": [
    "# name/class of element might change\n",
    "# so we find some image that stays the same\n",
    "# and go to the top using .parent\n",
    "\n",
    "def get_anchor(page_int=1, image_name='Газпромбанк'):\n",
    "    soup = get_soup(page_int)\n",
    "    anchor = soup.find('img', {'alt': image_name}).parent.parent.parent.parent.parent.parent\n",
    "    anchor = anchor['class']\n",
    "    return anchor"
   ]
  },
  {
   "cell_type": "code",
   "execution_count": null,
   "id": "28250244",
   "metadata": {},
   "outputs": [],
   "source": [
    "def parse_element(element):\n",
    "    bank = element.find('img')['alt']\n",
    "    divs = element.find_all('div')\n",
    "    # names of elements might change\n",
    "    # so we use order\n",
    "    name = divs[2].text\n",
    "    rate = divs[5].text\n",
    "    term = divs[6].text\n",
    "    money = divs[8].text\n",
    "    return [i.strip('\\n') for i in (bank, name, rate, term, money)]"
   ]
  },
  {
   "cell_type": "code",
   "execution_count": null,
   "id": "6ca876d0",
   "metadata": {},
   "outputs": [],
   "source": [
    "def parse_one_page(page_int, anchor):\n",
    "    soup = get_soup(page_int)\n",
    "    lists = [parse_element(element) for element in soup.find_all('div', class_=anchor[0])]\n",
    "    df = pd.DataFrame(lists, columns=['Банк', 'Вклад', 'Ставка', 'Срок', 'Сумма'])\n",
    "    return df"
   ]
  },
  {
   "cell_type": "code",
   "execution_count": null,
   "id": "8a238954",
   "metadata": {},
   "outputs": [],
   "source": [
    "def parse_all_pages():\n",
    "    anchor = get_anchor()\n",
    "    df_list = []\n",
    "    i = 1\n",
    "    while True:\n",
    "        df = parse_one_page(i, anchor)\n",
    "        # no more pages\n",
    "        if len(df) == 0:\n",
    "            break\n",
    "        df_list.append(df)\n",
    "        i += 1\n",
    "    return pd.concat(df_list)"
   ]
  },
  {
   "cell_type": "code",
   "execution_count": null,
   "id": "4726c873",
   "metadata": {},
   "outputs": [],
   "source": [
    "df = parse_all_pages()"
   ]
  },
  {
   "cell_type": "code",
   "execution_count": null,
   "id": "f27cb914",
   "metadata": {},
   "outputs": [],
   "source": [
    "df.head()"
   ]
  },
  {
   "cell_type": "code",
   "execution_count": null,
   "id": "32ee94ce-a65c-4845-95e1-3ca1eafe9fe5",
   "metadata": {},
   "outputs": [],
   "source": [
    "def parse_text(var_name, regex_range, regex_value):\n",
    "    extract_range = df[var_name].str.extract(regex_range)\n",
    "    extract_value = df[var_name].str.extract(regex_value)\n",
    "    regex_df = extract_range.combine_first(extract_value)\n",
    "    regex_df.columns = [f'Мин. {var_name}', f'Макс. {var_name}']\n",
    "    return regex_df"
   ]
  },
  {
   "cell_type": "code",
   "execution_count": null,
   "id": "17c0a52d-9037-485c-b877-7e70cb5b730b",
   "metadata": {},
   "outputs": [],
   "source": [
    "# parse_text('Ставка', \n",
    "#            r'([\\d,]+) — ([\\d,]+)%', \n",
    "#            r'([\\d,]+)%')\n",
    "\n",
    "# parse_text('Срок', \n",
    "#            r'([\\d,]+) — ([\\d,]+) дн.', \n",
    "#            r'([\\d,]+) дн.')\n",
    "\n",
    "# parse_text('Сумма', \n",
    "#            r'([\\d\\s]+) — ([\\d\\s]+) ₽', \n",
    "#            r'от ([\\d\\s]+) ₽')"
   ]
  },
  {
   "cell_type": "code",
   "execution_count": null,
   "id": "d0f40c2d-2959-4efa-946e-618fe0a4578e",
   "metadata": {},
   "outputs": [],
   "source": []
  },
  {
   "cell_type": "code",
   "execution_count": null,
   "id": "a844553f",
   "metadata": {},
   "outputs": [],
   "source": [
    "pattern_range = df['Ставка'].str.extract(r'([\\d,]+) — ([\\d,]+)%')\n",
    "pattern_value = df['Ставка'].str.extract(r'([\\d,]+)%')\n",
    "regex_res = pattern_1.combine_first(pattern_2)\n",
    "regex_res.columns = ['Мин. ставка', 'Макс. ставка']\n",
    "for i in regex_res.columns:\n",
    "    df[i] = c[i]"
   ]
  },
  {
   "cell_type": "code",
   "execution_count": null,
   "id": "c5d14f78",
   "metadata": {},
   "outputs": [],
   "source": [
    "pattern_1 = df['Срок'].str.extract(r'([\\d,]+) — ([\\d,]+) дн.')\n",
    "pattern_2 = df['Срок'].str.extract(r'([\\d,]+) дн.')\n",
    "regex_res = pattern_1.combine_first(pattern_2)\n",
    "regex_res.columns = ['Мин. срок', 'Макс. срок']\n",
    "for i in c.columns:\n",
    "    df[i] = c[i]"
   ]
  },
  {
   "cell_type": "code",
   "execution_count": null,
   "id": "c82ff395",
   "metadata": {},
   "outputs": [],
   "source": [
    "pattern_1 = df['Сумма'].str.extract(r'([\\d\\s]+) — ([\\d\\s]+) ₽')\n",
    "pattern_2 = df['Сумма'].str.extract(r'от ([\\d\\s]+) ₽')\n",
    "regex_res = pattern_1.combine_first(pattern_2)\n",
    "regex_res.columns = ['Мин. сумма', 'Макс. сумма']\n",
    "for i in regex_res.columns:\n",
    "    df[i] = regex_res[i]"
   ]
  },
  {
   "cell_type": "code",
   "execution_count": null,
   "id": "683a9c88",
   "metadata": {},
   "outputs": [],
   "source": []
  },
  {
   "cell_type": "code",
   "execution_count": null,
   "id": "312111ca",
   "metadata": {},
   "outputs": [],
   "source": [
    "df"
   ]
  },
  {
   "cell_type": "code",
   "execution_count": null,
   "id": "ff86014b",
   "metadata": {},
   "outputs": [],
   "source": [
    "# df.to_csv('bankiru_rates.csv')"
   ]
  },
  {
   "cell_type": "code",
   "execution_count": null,
   "id": "3358f4ea",
   "metadata": {},
   "outputs": [],
   "source": []
  }
 ],
 "metadata": {
  "kernelspec": {
   "display_name": "Python 3 (ipykernel)",
   "language": "python",
   "name": "python3"
  },
  "language_info": {
   "codemirror_mode": {
    "name": "ipython",
    "version": 3
   },
   "file_extension": ".py",
   "mimetype": "text/x-python",
   "name": "python",
   "nbconvert_exporter": "python",
   "pygments_lexer": "ipython3",
   "version": "3.11.5"
  }
 },
 "nbformat": 4,
 "nbformat_minor": 5
}
