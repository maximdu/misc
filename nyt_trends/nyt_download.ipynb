{
 "cells": [
  {
   "cell_type": "code",
   "execution_count": null,
   "id": "70da1efc",
   "metadata": {},
   "outputs": [],
   "source": [
    "import requests\n",
    "import json\n",
    "import time\n",
    "\n",
    "import pandas as pd\n",
    "import plotly.express as px\n",
    "\n",
    "from apikeys import NYT_KEY"
   ]
  },
  {
   "cell_type": "code",
   "execution_count": null,
   "id": "0b8a5e6b",
   "metadata": {},
   "outputs": [],
   "source": [
    "def download_data(year, month):\n",
    "    url = f'https://api.nytimes.com/svc/archive/v1/{year}/{month}.json'\n",
    "    params = {'api-key': NYT_KEY}\n",
    "    \n",
    "    r = requests.get(url, params=params, timeout=60).json()\n",
    "    articles = r['response']['docs']\n",
    "    \n",
    "    with open(f'data/nyt_{year}_{month:02}.json', 'w') as json_file:\n",
    "        json.dump(articles, json_file, indent=2)"
   ]
  },
  {
   "cell_type": "code",
   "execution_count": null,
   "id": "03b9dcb9",
   "metadata": {},
   "outputs": [],
   "source": []
  },
  {
   "cell_type": "code",
   "execution_count": null,
   "id": "50de6fda",
   "metadata": {},
   "outputs": [],
   "source": [
    "download_data(2020, 6)"
   ]
  },
  {
   "cell_type": "code",
   "execution_count": null,
   "id": "c115dbdb",
   "metadata": {},
   "outputs": [],
   "source": []
  }
 ],
 "metadata": {
  "kernelspec": {
   "display_name": "Python 3 (ipykernel)",
   "language": "python",
   "name": "python3"
  },
  "language_info": {
   "codemirror_mode": {
    "name": "ipython",
    "version": 3
   },
   "file_extension": ".py",
   "mimetype": "text/x-python",
   "name": "python",
   "nbconvert_exporter": "python",
   "pygments_lexer": "ipython3",
   "version": "3.11.5"
  }
 },
 "nbformat": 4,
 "nbformat_minor": 5
}
