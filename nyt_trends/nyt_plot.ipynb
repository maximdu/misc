{
 "cells": [
  {
   "cell_type": "code",
   "execution_count": null,
   "id": "858796b6",
   "metadata": {},
   "outputs": [],
   "source": [
    "import pymongo\n",
    "\n",
    "import pandas as pd\n",
    "from datetime import datetime\n",
    "import plotly.express as px"
   ]
  },
  {
   "cell_type": "code",
   "execution_count": null,
   "id": "7dd2551b",
   "metadata": {},
   "outputs": [],
   "source": [
    "conn_str = \"mongodb://localhost:27017\"\n",
    "client = pymongo.MongoClient(conn_str, serverSelectionTimeoutMS=10_000)"
   ]
  },
  {
   "cell_type": "code",
   "execution_count": null,
   "id": "0b7c8455",
   "metadata": {},
   "outputs": [],
   "source": [
    "db = client.bigdata"
   ]
  },
  {
   "cell_type": "code",
   "execution_count": null,
   "id": "cd3c7f5c",
   "metadata": {},
   "outputs": [],
   "source": [
    "def get_trend(text, from_dt, to_dt):\n",
    "    query = db.news.aggregate([\n",
    "\n",
    "        {\"$match\": {\"$text\": {\n",
    "            \"$search\": text,\n",
    "            \"$caseSensitive\": False\n",
    "        }}},\n",
    "\n",
    "        {\"$group\": {\n",
    "            \"_id\": \"$pub_date_day\",\n",
    "            \"count\": {\"$sum\": 1}\n",
    "        }},\n",
    "\n",
    "        {\"$densify\": {\n",
    "            \"field\": \"_id\",\n",
    "            \"range\": {\n",
    "                \"bounds\": [from_dt, to_dt],\n",
    "                \"step\": 1,\n",
    "                \"unit\": \"day\"\n",
    "            }\n",
    "        }},\n",
    "\n",
    "        {\"$set\": {\n",
    "            \"count\": { \"$cond\":  [\"$count\", \"$count\", 0]},\n",
    "        }},\n",
    "\n",
    "        {\"$sort\": {\"_id\": 1}}\n",
    "\n",
    "    ])\n",
    "    \n",
    "    df = pd.json_normalize(query)\n",
    "    df.columns = [\"date\", text]\n",
    "    \n",
    "    return df"
   ]
  },
  {
   "cell_type": "code",
   "execution_count": null,
   "id": "2b96fa4a",
   "metadata": {},
   "outputs": [],
   "source": []
  },
  {
   "cell_type": "code",
   "execution_count": null,
   "id": "4716b12e",
   "metadata": {},
   "outputs": [],
   "source": [
    "topics = ['coronavirus', 'trump', 'china']\n",
    "from_dt = datetime(2020, 1, 1)\n",
    "to_dt = datetime(2020, 7, 1)\n",
    "\n",
    "df = pd.DataFrame({'date': []})\n",
    "for topic in topics:\n",
    "    new = get_trend(topic, from_dt=from_dt, to_dt=to_dt)\n",
    "    df = pd.merge(df, new, on='date', how='outer')\n",
    "    \n",
    "for column in df.columns:\n",
    "    if column == 'date':\n",
    "        continue\n",
    "    df[column] = df[column].rolling(7, min_periods=1).mean()"
   ]
  },
  {
   "cell_type": "code",
   "execution_count": null,
   "id": "d358e6cc",
   "metadata": {},
   "outputs": [],
   "source": [
    "df.tail()"
   ]
  },
  {
   "cell_type": "code",
   "execution_count": null,
   "id": "95e56790",
   "metadata": {},
   "outputs": [],
   "source": [
    "fig = px.line(\n",
    "    df,\n",
    "    x='date',\n",
    "    y=topics,\n",
    "    template='plotly_white'\n",
    ")\n",
    "\n",
    "fig.update_layout(legend=dict(\n",
    "    yanchor='top', y=1,\n",
    "    xanchor='left', x=0\n",
    "))\n",
    "\n",
    "fig.show()"
   ]
  },
  {
   "cell_type": "code",
   "execution_count": null,
   "id": "fe3b19bc",
   "metadata": {},
   "outputs": [],
   "source": []
  },
  {
   "cell_type": "code",
   "execution_count": null,
   "id": "5bc8260f",
   "metadata": {},
   "outputs": [],
   "source": []
  },
  {
   "cell_type": "code",
   "execution_count": null,
   "id": "e218419f",
   "metadata": {},
   "outputs": [],
   "source": []
  },
  {
   "cell_type": "code",
   "execution_count": null,
   "id": "c5b7e725",
   "metadata": {},
   "outputs": [],
   "source": []
  }
 ],
 "metadata": {
  "kernelspec": {
   "display_name": "Python 3 (ipykernel)",
   "language": "python",
   "name": "python3"
  },
  "language_info": {
   "codemirror_mode": {
    "name": "ipython",
    "version": 3
   },
   "file_extension": ".py",
   "mimetype": "text/x-python",
   "name": "python",
   "nbconvert_exporter": "python",
   "pygments_lexer": "ipython3",
   "version": "3.11.5"
  }
 },
 "nbformat": 4,
 "nbformat_minor": 5
}
