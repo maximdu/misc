{
 "cells": [
  {
   "cell_type": "markdown",
   "id": "0851ce6c",
   "metadata": {},
   "source": [
    "[Credit](https://www.youtube.com/watch?v=kbKtFN71Lfs)"
   ]
  },
  {
   "cell_type": "code",
   "execution_count": null,
   "id": "fb34d47c",
   "metadata": {},
   "outputs": [],
   "source": [
    "import numpy as np\n",
    "import pandas as pd\n",
    "import plotly.express as px"
   ]
  },
  {
   "cell_type": "markdown",
   "id": "7849a874",
   "metadata": {},
   "source": [
    "## Calculations"
   ]
  },
  {
   "cell_type": "code",
   "execution_count": null,
   "id": "b185a7cc",
   "metadata": {},
   "outputs": [],
   "source": [
    "SIDE = 1000\n",
    "\n",
    "# tetrahedron vertices\n",
    "move_to = np.array([\n",
    "    [0, 0, 0],\n",
    "    [SIDE, SIDE, 0],\n",
    "    [SIDE, 0, SIDE],\n",
    "    [0, SIDE, SIDE]\n",
    "])\n",
    "\n",
    "n_points = len(move_to)"
   ]
  },
  {
   "cell_type": "code",
   "execution_count": null,
   "id": "75e05bfd",
   "metadata": {},
   "outputs": [],
   "source": [
    "def get_move_to():\n",
    "    return move_to[\n",
    "        np.random.randint(n_points)\n",
    "    ]"
   ]
  },
  {
   "cell_type": "code",
   "execution_count": null,
   "id": "32332357",
   "metadata": {},
   "outputs": [],
   "source": [
    "point = np.array([SIDE/10, SIDE/10, SIDE/10])\n",
    "history = []\n",
    "\n",
    "for i in range(10_000):\n",
    "    point = np.mean([point, get_move_to()], axis=0)\n",
    "    history.append(point)\n",
    "\n",
    "history = pd.DataFrame(history)"
   ]
  },
  {
   "cell_type": "code",
   "execution_count": null,
   "id": "198137e8",
   "metadata": {},
   "outputs": [],
   "source": []
  },
  {
   "cell_type": "markdown",
   "id": "67f4fa36",
   "metadata": {},
   "source": [
    "## Plot"
   ]
  },
  {
   "cell_type": "code",
   "execution_count": null,
   "id": "22aee70b",
   "metadata": {},
   "outputs": [],
   "source": [
    "center = SIDE/2\n",
    "distance_to_center = (center - history).abs().sum(axis=1)"
   ]
  },
  {
   "cell_type": "code",
   "execution_count": null,
   "id": "03828713",
   "metadata": {},
   "outputs": [],
   "source": [
    "colors = ['black', 'darkred', 'red', 'orange', 'yellow', 'green']"
   ]
  },
  {
   "cell_type": "code",
   "execution_count": null,
   "id": "4321836c",
   "metadata": {},
   "outputs": [],
   "source": [
    "fig = px.scatter_3d(\n",
    "    history,\n",
    "    x=0, y=1, z=2, \n",
    "    color=distance_to_center, \n",
    "    color_continuous_scale=colors[::-1],\n",
    "    template='plotly_white'\n",
    ")\n",
    "\n",
    "fig.update_layout(\n",
    "    height=800, width=800,\n",
    "    coloraxis_showscale=False,\n",
    "    margin_t=0, margin_b=0, \n",
    "    margin_l=0, margin_r=0, \n",
    ")\n",
    "\n",
    "fig.update_traces(\n",
    "    marker_size=2\n",
    ")\n",
    "\n",
    "fig.show()"
   ]
  },
  {
   "cell_type": "code",
   "execution_count": null,
   "id": "204585c0",
   "metadata": {},
   "outputs": [],
   "source": []
  },
  {
   "cell_type": "code",
   "execution_count": null,
   "id": "55f9f854",
   "metadata": {},
   "outputs": [],
   "source": []
  }
 ],
 "metadata": {
  "kernelspec": {
   "display_name": "Python 3 (ipykernel)",
   "language": "python",
   "name": "python3"
  },
  "language_info": {
   "codemirror_mode": {
    "name": "ipython",
    "version": 3
   },
   "file_extension": ".py",
   "mimetype": "text/x-python",
   "name": "python",
   "nbconvert_exporter": "python",
   "pygments_lexer": "ipython3",
   "version": "3.11.5"
  }
 },
 "nbformat": 4,
 "nbformat_minor": 5
}
