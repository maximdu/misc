{
 "cells": [
  {
   "cell_type": "markdown",
   "id": "8af543d1",
   "metadata": {},
   "source": [
    "**ColorClustering**\n",
    "\n",
    "Compress an image by:\n",
    "1. Clustering RGB values of pixels (using K-Means)\n",
    "2. Replace pixel with an average color of it's cluster\n",
    "\n",
    "[Credit](https://www.youtube.com/watch?v=yR7k19YBqiw)"
   ]
  },
  {
   "cell_type": "code",
   "execution_count": null,
   "id": "3ffdecad",
   "metadata": {},
   "outputs": [],
   "source": [
    "import numpy as np\n",
    "import pandas as pd\n",
    "\n",
    "from PIL import Image\n",
    "from sklearn.cluster import KMeans"
   ]
  },
  {
   "cell_type": "code",
   "execution_count": null,
   "id": "7ea31b23",
   "metadata": {},
   "outputs": [],
   "source": [
    "class MyImage:\n",
    "    \n",
    "    def __init__(self, path):\n",
    "        \n",
    "        # open image\n",
    "        self.image = Image.open(path)\n",
    "        self.rgb_pixels = np.array(self.image)\n",
    "        self.original_shape = self.rgb_pixels.shape\n",
    "        \n",
    "        # get (red, green, blue) layers\n",
    "        r, g, b = np.transpose(\n",
    "            self.rgb_pixels, \n",
    "            axes=(2, 0, 1)\n",
    "        )\n",
    "        \n",
    "        # flatten and convert to df (for clustering)\n",
    "        self.df = pd.DataFrame(dict(\n",
    "            r=r.flatten(),\n",
    "            g=g.flatten(),\n",
    "            b=b.flatten()\n",
    "        ))\n",
    "        \n",
    "    \n",
    "    def get_compressed_image(self, \n",
    "                             n_clusters=10, \n",
    "                             sample_size=10_000):\n",
    "        \n",
    "        clustering = KMeans(n_clusters=n_clusters)\n",
    "        clustering.fit(self.df.sample(sample_size))  # fitting on subsample to speed up\n",
    "        \n",
    "        clusters = clustering.predict(self.df)\n",
    "        clusters = pd.Series(clusters)  # to use .map() later\n",
    "        \n",
    "        group_means = self.df.groupby(clusters).mean()\n",
    "        group_means = group_means.to_dict()\n",
    "        \n",
    "        df_new = pd.DataFrame()\n",
    "        for c in self.df.columns:\n",
    "            df_new[c] = clusters.map(group_means[c])\n",
    "        df_new = df_new.astype(np.uint8)  # to convert back to image\n",
    "        \n",
    "        rgb_array = df_new.values.reshape(self.original_shape)\n",
    "        return Image.fromarray(rgb_array)\n",
    "    \n",
    "    \n",
    "    def save_compressed_images(self, \n",
    "                               k_colors, \n",
    "                               output_folder='output'):\n",
    "        \n",
    "        for k in k_colors:\n",
    "            image = self.get_compressed_image(n_clusters=k)\n",
    "            image.save(f'{output_folder}/k_{k:02}.jpg')\n",
    "        \n",
    "        self.image.save(f'{output_folder}/k_original.jpg')  # to compare with original image"
   ]
  },
  {
   "cell_type": "code",
   "execution_count": null,
   "id": "58a349ac",
   "metadata": {},
   "outputs": [],
   "source": [
    "image = MyImage('test_image.jpg')"
   ]
  },
  {
   "cell_type": "code",
   "execution_count": null,
   "id": "35763d2c",
   "metadata": {},
   "outputs": [],
   "source": [
    "image.save_compressed_images(k_colors=[2,3,4,5,6])"
   ]
  },
  {
   "cell_type": "code",
   "execution_count": null,
   "id": "59d75ecc",
   "metadata": {},
   "outputs": [],
   "source": []
  },
  {
   "cell_type": "code",
   "execution_count": null,
   "id": "79a7e6ec",
   "metadata": {},
   "outputs": [],
   "source": []
  }
 ],
 "metadata": {
  "kernelspec": {
   "display_name": "Python 3 (ipykernel)",
   "language": "python",
   "name": "python3"
  },
  "language_info": {
   "codemirror_mode": {
    "name": "ipython",
    "version": 3
   },
   "file_extension": ".py",
   "mimetype": "text/x-python",
   "name": "python",
   "nbconvert_exporter": "python",
   "pygments_lexer": "ipython3",
   "version": "3.11.5"
  }
 },
 "nbformat": 4,
 "nbformat_minor": 5
}
