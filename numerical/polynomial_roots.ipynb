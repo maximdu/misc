{
 "cells": [
  {
   "cell_type": "code",
   "execution_count": 1,
   "id": "9ff7f8c9",
   "metadata": {},
   "outputs": [],
   "source": [
    "import numpy as np\n",
    "from numpy.polynomial import Polynomial"
   ]
  },
  {
   "cell_type": "code",
   "execution_count": 2,
   "id": "f42e6aaf",
   "metadata": {},
   "outputs": [],
   "source": [
    "def random_uniform_complex(radius: float, k: int):\n",
    "    a = np.random.uniform(-radius, radius, k)\n",
    "    b = np.random.uniform(-radius, radius, k)\n",
    "    return a + 1j * b\n",
    "\n",
    "\n",
    "class RootsNotFoundError(Exception):\n",
    "    def __init__(self):\n",
    "        default_message = \"Algorithm for finding roots has not converged\"\n",
    "        super().__init__(default_message)\n",
    "\n",
    "\n",
    "def retry_search(times):\n",
    "    def decorator(func):\n",
    "        \n",
    "        def new_func(*args, **kwargs):\n",
    "            for i in range(times):\n",
    "                try:\n",
    "                    return func(*args, **kwargs)\n",
    "                except RootsNotFoundError:\n",
    "                    pass\n",
    "            return func(*args, **kwargs)\n",
    "        \n",
    "        return new_func\n",
    "    return decorator"
   ]
  },
  {
   "cell_type": "code",
   "execution_count": 3,
   "id": "05f75591",
   "metadata": {},
   "outputs": [],
   "source": [
    "def Durand_Kerner_method(poly_coeff: np.array, \n",
    "                         max_steps=100,\n",
    "                         atol=1e-6):\n",
    "    \n",
    "    poly_coeff = np.array(poly_coeff)\n",
    "    poly_degree = len(poly_coeff) - 1\n",
    "    f = Polynomial(poly_coeff[::-1] / poly_coeff[0])\n",
    "    \n",
    "    init_radius = 1 + np.abs(poly_coeff).max()\n",
    "    roots = random_uniform_complex(init_radius, poly_degree)\n",
    "\n",
    "    for _ in range(max_steps):\n",
    "        for var_index in range(poly_degree):\n",
    "            num = f(roots[var_index])\n",
    "            # product(xi-xj), i != j\n",
    "            diff = roots[var_index] - np.delete(roots, var_index)\n",
    "            den = np.prod(diff)\n",
    "            roots[var_index] -= num / den\n",
    "            \n",
    "        if np.allclose(f(roots), 0, atol=atol):\n",
    "            return roots\n",
    "        \n",
    "    raise RootsNotFoundError()"
   ]
  },
  {
   "cell_type": "code",
   "execution_count": 4,
   "id": "a0e7c1f0",
   "metadata": {},
   "outputs": [],
   "source": [
    "def Aberth_method(poly_coeff: np.array, \n",
    "                  max_steps=100,\n",
    "                  atol=1e-6):\n",
    "    \n",
    "    poly_coeff = np.array(poly_coeff)\n",
    "    poly_degree = len(poly_coeff) - 1\n",
    "    f = Polynomial(poly_coeff[::-1] / poly_coeff[0])\n",
    "    \n",
    "    init_radius = 1 + np.abs(poly_coeff).max()\n",
    "    roots = random_uniform_complex(init_radius, poly_degree)\n",
    "\n",
    "    for _ in range(max_steps):\n",
    "        \n",
    "        num = f(roots) / f.deriv()(roots)\n",
    "        s = np.array([\n",
    "            # sum(1/a)\n",
    "            np.sum(np.reciprocal(\n",
    "                # (xi-xj), i != j\n",
    "                roots[i] - np.delete(roots, i)\n",
    "            ))\n",
    "            for i in range(poly_degree)\n",
    "        ])\n",
    "\n",
    "        den = 1 - num * s\n",
    "        roots -= num / den\n",
    "\n",
    "        if np.allclose(f(roots), 0, atol=atol):\n",
    "            return roots\n",
    "    \n",
    "    raise RootsNotFoundError()"
   ]
  },
  {
   "cell_type": "code",
   "execution_count": null,
   "id": "dc162b85",
   "metadata": {},
   "outputs": [],
   "source": []
  },
  {
   "cell_type": "code",
   "execution_count": 5,
   "id": "69b47fc4",
   "metadata": {},
   "outputs": [],
   "source": [
    "poly_coeff = [3, -5, 2, -6, 4, 2]"
   ]
  },
  {
   "cell_type": "code",
   "execution_count": 6,
   "id": "60acc9ea",
   "metadata": {},
   "outputs": [],
   "source": [
    "roots = Durand_Kerner_method(poly_coeff)"
   ]
  },
  {
   "cell_type": "code",
   "execution_count": 7,
   "id": "e0092f8e",
   "metadata": {},
   "outputs": [
    {
     "data": {
      "text/plain": [
       "array([-0.317572-0.j      ,  1.604692+0.j      , -0.310227-1.100892j,\n",
       "       -0.310227+1.100892j,  1.      -0.j      ])"
      ]
     },
     "execution_count": 7,
     "metadata": {},
     "output_type": "execute_result"
    }
   ],
   "source": [
    "roots.round(6)"
   ]
  },
  {
   "cell_type": "code",
   "execution_count": null,
   "id": "509192ed",
   "metadata": {},
   "outputs": [],
   "source": []
  },
  {
   "cell_type": "code",
   "execution_count": 8,
   "id": "f97be306",
   "metadata": {},
   "outputs": [],
   "source": [
    "roots = Aberth_method(poly_coeff)"
   ]
  },
  {
   "cell_type": "code",
   "execution_count": 9,
   "id": "3972cb27",
   "metadata": {},
   "outputs": [
    {
     "data": {
      "text/plain": [
       "array([-0.317572-0.j      ,  1.604692+0.j      , -0.310227-1.100892j,\n",
       "       -0.310227+1.100892j,  1.      -0.j      ])"
      ]
     },
     "execution_count": 9,
     "metadata": {},
     "output_type": "execute_result"
    }
   ],
   "source": [
    "roots.round(6)"
   ]
  },
  {
   "cell_type": "code",
   "execution_count": null,
   "id": "8838cf86",
   "metadata": {},
   "outputs": [],
   "source": []
  },
  {
   "cell_type": "code",
   "execution_count": null,
   "id": "0509347a",
   "metadata": {},
   "outputs": [],
   "source": []
  }
 ],
 "metadata": {
  "kernelspec": {
   "display_name": "Python 3 (ipykernel)",
   "language": "python",
   "name": "python3"
  },
  "language_info": {
   "codemirror_mode": {
    "name": "ipython",
    "version": 3
   },
   "file_extension": ".py",
   "mimetype": "text/x-python",
   "name": "python",
   "nbconvert_exporter": "python",
   "pygments_lexer": "ipython3",
   "version": "3.11.5"
  }
 },
 "nbformat": 4,
 "nbformat_minor": 5
}
