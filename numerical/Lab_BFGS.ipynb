{
 "cells": [
  {
   "cell_type": "code",
   "execution_count": 1,
   "metadata": {
    "id": "S2aFFXPL5IE-"
   },
   "outputs": [],
   "source": [
    "import numpy as np\n",
    "import plotly.express as px"
   ]
  },
  {
   "cell_type": "markdown",
   "metadata": {
    "id": "Dt7HrGC85Yas"
   },
   "source": [
    "## Аналитическое решение и производные"
   ]
  },
  {
   "cell_type": "markdown",
   "metadata": {
    "id": "dMlsh1bp5bYw"
   },
   "source": [
    "Для начала упростим функцию\n",
    "\n",
    "$f(x) = \\frac{1}{2} [x_1^2 + x_3^2 + (x_1-x_2)^2 + (x_2-x_3)^2] - x_1$\n",
    "\n",
    "$f(x) = \\frac{1}{2} [x_1^2 + x_3^2 + x_1^2 - 2x_1x_2 + x_2^2 + x_2^2 - 2x_2x_3 + x_3^2] - x_1$\n",
    "\n",
    "$f(x) = \\frac{1}{2} [2x_1^2 + 2x_2^2 + 2x_3^2 - 2x_1x_2 - 2x_2x_3] - x_1$\n",
    "\n",
    "$f(x) = x_1^2 + x_2^2 + x_3^2 - x_1x_2 - x_2x_3 - x_1$"
   ]
  },
  {
   "cell_type": "markdown",
   "metadata": {
    "id": "ynQbu4P_5e6E"
   },
   "source": [
    "Найдем производные\n",
    "\n",
    "$grad = \\begin{bmatrix} 2x_1-x_2-1 \\\\ 2x_2-x_1-x_3 \\\\ 2x_3-x_2 \\end{bmatrix}$\n",
    "\n",
    "$H = \\begin{bmatrix} 2&-1&0 \\\\ -1&2&-1 \\\\ 0&-1&2 \\end{bmatrix}$\n",
    "\n",
    "Матрица H положительно определена, значит функция вогнутая (у нас говорили \"выпуклая вверх\" и \"выпуклая вниз\"), поэтому применять метод можно"
   ]
  },
  {
   "cell_type": "markdown",
   "metadata": {
    "id": "Y7Znn2Dy5pfe"
   },
   "source": [
    "Аналитическое решение оптимизации\n",
    "\n",
    "$x = \\begin{bmatrix} 0.75 \\\\ 0.5 \\\\ 0.25\\end{bmatrix}; f(x) = -0.375$"
   ]
  },
  {
   "cell_type": "code",
   "execution_count": 2,
   "metadata": {
    "id": "D-i4BwEM5QTL"
   },
   "outputs": [],
   "source": [
    "def task_function(x):\n",
    "    return np.square(x).sum() - x[0]*x[1] - x[1]*x[2] - x[0]\n",
    "\n",
    "def task_true_grad(x):\n",
    "    return np.array([\n",
    "        2*x[0] - x[1] - 1,\n",
    "        2*x[1] - x[0] - x[2],\n",
    "        2*x[2] - x[1]\n",
    "    ])\n",
    "\n",
    "# Так как функции внутри градиента линейные,\n",
    "# можно также было использовать np.dot, \n",
    "# но это частный случай + читается хуже\n",
    "\n",
    "def task_true_H(x):\n",
    "    return np.array([\n",
    "        [ 2, -1,  0],\n",
    "        [-1,  2, -1],\n",
    "        [ 0, -1,  2]\n",
    "    ])"
   ]
  },
  {
   "cell_type": "markdown",
   "metadata": {
    "id": "69FQWU226n6Q"
   },
   "source": [
    "## Вспомогательные функции"
   ]
  },
  {
   "cell_type": "code",
   "execution_count": 3,
   "metadata": {
    "id": "ozmL_F1y5QVe"
   },
   "outputs": [],
   "source": [
    "def dot3(a, b, c):\n",
    "    return np.dot(np.dot(a, b), c)\n",
    "\n",
    "def e(k, i):\n",
    "    \"\"\"\n",
    "    Возвращает массив из k элементов,\n",
    "    на индексе i стоит единица,\n",
    "    все остальные - нули\n",
    "    \"\"\"\n",
    "    return np.eye(k)[i]"
   ]
  },
  {
   "cell_type": "code",
   "execution_count": null,
   "metadata": {
    "id": "-ZVfWM_X5QX-"
   },
   "outputs": [],
   "source": []
  },
  {
   "cell_type": "markdown",
   "metadata": {
    "id": "V8Pmwcg676ay"
   },
   "source": [
    "## Вспомогательные классы"
   ]
  },
  {
   "cell_type": "code",
   "execution_count": 4,
   "metadata": {
    "id": "EAMu8zTF5Qap"
   },
   "outputs": [],
   "source": [
    "# Все, связанное с целевой функцией,\n",
    "# выделим в отдельный класс\n",
    "\n",
    "class Function:\n",
    "    \n",
    "    def __init__(self, \n",
    "                 f, \n",
    "                 true_grad, \n",
    "                 true_H, \n",
    "                 use_numerical: dict):\n",
    "        self._f = f\n",
    "        # true_ - аналитический\n",
    "        self.true_grad = true_grad\n",
    "        self.true_H = true_H\n",
    "        \n",
    "        # Использовать ли численный метод вычисления производных\n",
    "        self.use_numerical = use_numerical\n",
    "        # Число вызовов\n",
    "        # (функции, градиента, гессиана)\n",
    "        self.n_calls = {\n",
    "            'f': 0, 'grad': 0, 'H': 0\n",
    "        }\n",
    "        \n",
    "    def __call__(self, x):\n",
    "        self.n_calls['f'] += 1\n",
    "        return self._f(x)\n",
    "    \n",
    "    def f(self, x):\n",
    "        self.n_calls['f'] += 1\n",
    "        return self._f(x)\n",
    "\n",
    "    def grad(self, x, epsilon=1e-4):\n",
    "        self.n_calls['grad'] += 1\n",
    "\n",
    "        if self.use_numerical['grad']:\n",
    "            return self.diff_grad(x, epsilon)\n",
    "        else:\n",
    "            return self.true_grad(x)\n",
    "    \n",
    "\n",
    "    def H(self, x, epsilon=1e-4):\n",
    "        self.n_calls['H'] += 1\n",
    "        \n",
    "        if self.use_numerical['H']:\n",
    "            return self.diff_H(x, epsilon)\n",
    "        else:\n",
    "            return self.true_H(x)\n",
    "\n",
    "\n",
    "    def diff_grad(self, x: np.array, h: float):\n",
    "        \"\"\"\n",
    "        Градиент методом разностей\n",
    "        \"\"\"\n",
    "        k = x.shape[0]\n",
    "        return np.array([\n",
    "            # пишем self(x), потому что есть __call__\n",
    "            self(x + e(k, i)*h) - \\\n",
    "            self(x - e(k, i)*h)\n",
    "            for i in range(k)\n",
    "        ]) / (2*h)\n",
    "\n",
    "\n",
    "    def diff_H(self, x: np.array, h: float):\n",
    "        \"\"\"\n",
    "        Вторые производные методом разностей\n",
    "        \"\"\"\n",
    "        k = x.shape[0]\n",
    "        return np.array([[\n",
    "            self(x + e(k, i)*h + e(k, j)*h) - \\\n",
    "            self(x + e(k, i)*h - e(k, j)*h) - \\\n",
    "            self(x - e(k, i)*h + e(k, j)*h) + \\\n",
    "            self(x - e(k, i)*h - e(k, j)*h)\n",
    "            for i in range(k)\n",
    "        ]\n",
    "            for j in range(k)\n",
    "        ]) / (4*h**2)"
   ]
  },
  {
   "cell_type": "code",
   "execution_count": 5,
   "metadata": {
    "id": "rmVGXa435QfW"
   },
   "outputs": [],
   "source": [
    "# Также выделим в отдельный класс все,\n",
    "# что связано с поиском параметра alpha\n",
    "\n",
    "class AlphaFinder:\n",
    "    \n",
    "    def __init__(self):\n",
    "        pass\n",
    "    \n",
    "    @staticmethod\n",
    "    def Wolfe_condition_1(f, x, alpha, p, c1):\n",
    "        lhs = f(x + alpha*p)\n",
    "        rhs = f(x) + c1*alpha*np.dot(f.grad(x), p)\n",
    "        return lhs < rhs\n",
    "    \n",
    "    @staticmethod\n",
    "    def Wolfe_condition_2(f, x, alpha, p, c2):\n",
    "        lhs = np.dot(f.grad(x + alpha*p), p)\n",
    "        rhs = c2 * alpha * np.dot(f.grad(x), p)\n",
    "        return lhs >= rhs\n",
    "    \n",
    "    def __call__(self, \n",
    "                 f, x, p, \n",
    "                 c1=0.01, c2=0.90, \n",
    "                 alpha_start=0.1, alpha_step=0.1):\n",
    "        \"\"\"\n",
    "        Линейный поиск параметра alpha\n",
    "        \"\"\"\n",
    "        alpha = alpha_start\n",
    "        while not (\n",
    "            self.Wolfe_condition_1(f, x, alpha, p, c1) and \n",
    "            self.Wolfe_condition_2(f, x, alpha, p, c2)\n",
    "        ):\n",
    "            alpha += alpha_step\n",
    "        return alpha\n",
    "        "
   ]
  },
  {
   "cell_type": "code",
   "execution_count": null,
   "metadata": {
    "id": "liKUJOBd5Qhw"
   },
   "outputs": [],
   "source": []
  },
  {
   "cell_type": "markdown",
   "metadata": {
    "id": "UcfQeG7z_Lk3"
   },
   "source": [
    "## Метод BFGS (без приближения H)"
   ]
  },
  {
   "cell_type": "code",
   "execution_count": 6,
   "metadata": {
    "id": "oW8Cq9dd_K_s"
   },
   "outputs": [],
   "source": [
    "def BFGS_method(f: Function, \n",
    "                x0: np.array,\n",
    "                epsilon: float):\n",
    "    \n",
    "    x = x0.copy()\n",
    "    alpha_finder = AlphaFinder()\n",
    "    # Для записи статистики\n",
    "    x_history = [x0]\n",
    "    y_history = [f(x0)]\n",
    "\n",
    "    while True:\n",
    "        # Основное\n",
    "        grad = f.grad(x)\n",
    "        H = f.H(x)\n",
    "        H_inv = np.linalg.inv(H)\n",
    "        # Направление движения\n",
    "        p = -1 * np.dot(H_inv, grad)\n",
    "        # Поиск длины шага alpha\n",
    "        alpha = alpha_finder(f, x, p, \n",
    "                             alpha_start=0.1, alpha_step=0.1)\n",
    "        # Делаем шаг\n",
    "        x = x + alpha * p\n",
    "        y = f(x)\n",
    "        # Обновляем статистику\n",
    "        x_history.append(x.copy())\n",
    "        y_history.append(y.copy())\n",
    "        \n",
    "        # Проверяем критерий остановки\n",
    "        if np.linalg.norm(grad) < epsilon:\n",
    "            return x, y, x_history, y_history\n",
    "    "
   ]
  },
  {
   "cell_type": "markdown",
   "metadata": {
    "id": "V1aiyqMNJaeb"
   },
   "source": [
    "## Метод BFGS (приближение H)"
   ]
  },
  {
   "cell_type": "code",
   "execution_count": 7,
   "metadata": {
    "id": "HKtqj0KyJePb"
   },
   "outputs": [],
   "source": [
    "def update_H(H, s, y):\n",
    "    \"\"\"\n",
    "    Обновление матрицы Гессе\n",
    "    \"\"\"\n",
    "    k = H.shape[0]\n",
    "    I = np.eye(k)\n",
    "\n",
    "    ro = 1 / np.dot(y, s)\n",
    "    parente1 = (I - ro * np.outer(s, y))\n",
    "    parente2 = (I - ro * np.outer(y, s))\n",
    "    add = ro * np.outer(s, s)\n",
    "    \n",
    "    return dot3(parente1, H, parente2) + add"
   ]
  },
  {
   "cell_type": "code",
   "execution_count": 8,
   "metadata": {
    "id": "oNJOFt2kJeaV"
   },
   "outputs": [],
   "source": [
    "def BFGS_method_H_evolve(f: Function, \n",
    "                         x0: np.array,\n",
    "                         epsilon: float):\n",
    "    \n",
    "    x = x0.copy()\n",
    "    alpha_finder = AlphaFinder()\n",
    "    \n",
    "    # Для записи статистики\n",
    "    x_history = [x0]\n",
    "    y_history = [f(x0)]\n",
    "\n",
    "    k = x0.shape[0]\n",
    "    H = np.eye(k)\n",
    "    \n",
    "    while True:\n",
    "        # Основное\n",
    "        grad = f.grad(x)\n",
    "        H = f.H(x)\n",
    "        H_inv = np.linalg.inv(H)\n",
    "        # Направление движения\n",
    "        p = -1 * np.dot(H_inv, grad)\n",
    "        # Поиск длины шага alpha\n",
    "        alpha = alpha_finder(f, x, p, \n",
    "                             alpha_start=0.1, alpha_step=0.1)\n",
    "        step = alpha * p\n",
    "\n",
    "        # Обновляем H\n",
    "        s = step\n",
    "        y = f.grad(x+step) - f.grad(x)\n",
    "        H = update_H(H, s, y)\n",
    "\n",
    "        # Делаем шаг\n",
    "        x = x + alpha * p\n",
    "        y = f(x)\n",
    "        # Обновляем статистику\n",
    "        x_history.append(x.copy())\n",
    "        y_history.append(y.copy())\n",
    "        \n",
    "        # Проверяем критерий остановки\n",
    "        if np.linalg.norm(grad) < epsilon:\n",
    "            return x, y, x_history, y_history\n",
    "    "
   ]
  },
  {
   "cell_type": "code",
   "execution_count": null,
   "metadata": {
    "id": "N2cyq1ZkJei5"
   },
   "outputs": [],
   "source": []
  },
  {
   "cell_type": "code",
   "execution_count": null,
   "metadata": {
    "id": "BHNei0DuJell"
   },
   "outputs": [],
   "source": []
  },
  {
   "cell_type": "markdown",
   "metadata": {
    "id": "2NZQ3RnyHD0a"
   },
   "source": [
    "## Тест метода"
   ]
  },
  {
   "cell_type": "markdown",
   "metadata": {
    "id": "SiWVNXQhHOE-"
   },
   "source": [
    "### Аналитические производные"
   ]
  },
  {
   "cell_type": "code",
   "execution_count": 9,
   "metadata": {
    "id": "2cgdls8EHU06"
   },
   "outputs": [],
   "source": [
    "x0 = np.array([200, 500, 300])\n",
    "epsilon = 1e-3"
   ]
  },
  {
   "cell_type": "code",
   "execution_count": 10,
   "metadata": {
    "id": "Nlf4Lanc_LCK"
   },
   "outputs": [],
   "source": [
    "func_true = Function(\n",
    "    f=task_function,\n",
    "    true_grad=task_true_grad,\n",
    "    true_H=task_true_H,\n",
    "    use_numerical={'grad': False, 'H': False}\n",
    ")"
   ]
  },
  {
   "cell_type": "code",
   "execution_count": 11,
   "metadata": {
    "colab": {
     "base_uri": "https://localhost:8080/"
    },
    "id": "Aln3lj_zBS1A",
    "outputId": "0c750312-8756-456b-af00-29fda3c615a9"
   },
   "outputs": [
    {
     "name": "stdout",
     "output_type": "stream",
     "text": [
      "CPU times: total: 15.6 ms\n",
      "Wall time: 34.7 ms\n"
     ]
    }
   ],
   "source": [
    "%%time\n",
    "x, y, x_history, y_history = BFGS_method(func_true, x0, epsilon)"
   ]
  },
  {
   "cell_type": "code",
   "execution_count": 12,
   "metadata": {
    "colab": {
     "base_uri": "https://localhost:8080/"
    },
    "id": "vKsrQEc8BTd4",
    "outputId": "025c67f1-d2c8-45dc-bf12-c433fef03767"
   },
   "outputs": [
    {
     "data": {
      "text/plain": [
       "(-0.37499997605605695, array([0.75008558, 0.50021453, 0.25012874]))"
      ]
     },
     "execution_count": 12,
     "metadata": {},
     "output_type": "execute_result"
    }
   ],
   "source": [
    "# Найденные значения\n",
    "y, x"
   ]
  },
  {
   "cell_type": "code",
   "execution_count": 13,
   "metadata": {
    "colab": {
     "base_uri": "https://localhost:8080/"
    },
    "id": "KBa_R_aIyesp",
    "outputId": "c4ea9880-f05c-4691-b37c-aae464efb4e2"
   },
   "outputs": [
    {
     "data": {
      "text/plain": [
       "{'f': 209, 'grad': 304, 'H': 16}"
      ]
     },
     "execution_count": 13,
     "metadata": {},
     "output_type": "execute_result"
    }
   ],
   "source": [
    "# Число вызовов\n",
    "func_true.n_calls"
   ]
  },
  {
   "cell_type": "code",
   "execution_count": null,
   "metadata": {
    "colab": {
     "base_uri": "https://localhost:8080/",
     "height": 542
    },
    "id": "OtwxCeTMBwvU",
    "outputId": "06f5a652-0e59-4912-f1da-e21990542ad0"
   },
   "outputs": [],
   "source": [
    "# Эволюция параметров по итерациям\n",
    "a, b, c = np.vstack(x_history).T\n",
    "fig = px.line(y=[a, b, c], \n",
    "              template='plotly_dark', \n",
    "              log_y=True)\n",
    "fig.update_layout(\n",
    "    margin_t=0,margin_b=0,\n",
    "    margin_l=0,margin_r=0\n",
    ")\n",
    "fig.show()"
   ]
  },
  {
   "cell_type": "code",
   "execution_count": null,
   "metadata": {
    "colab": {
     "base_uri": "https://localhost:8080/",
     "height": 542
    },
    "id": "l4hnJXjIBw0N",
    "outputId": "3749bd01-617f-40b6-844f-3337fdc1fe9d"
   },
   "outputs": [],
   "source": [
    "# Изменение целевой функции по итерациям\n",
    "# Оптимизация заняла всего 10 шагов\n",
    "px.line(y_history, template='plotly_dark')"
   ]
  },
  {
   "cell_type": "code",
   "execution_count": null,
   "metadata": {
    "id": "co2MyvVGBTjJ"
   },
   "outputs": [],
   "source": []
  },
  {
   "cell_type": "code",
   "execution_count": null,
   "metadata": {
    "id": "3v-ZilfcAM0c"
   },
   "outputs": [],
   "source": []
  },
  {
   "cell_type": "markdown",
   "metadata": {
    "id": "Zf1wp59dANj5"
   },
   "source": [
    "## Численный только Гессиан"
   ]
  },
  {
   "cell_type": "code",
   "execution_count": 14,
   "metadata": {
    "id": "kDEMT5dTAM2-"
   },
   "outputs": [],
   "source": [
    "func_H_num = Function(\n",
    "    f=task_function,\n",
    "    true_grad=task_true_grad,\n",
    "    true_H=task_true_H,\n",
    "    use_numerical={'grad': False, 'H': True}\n",
    ")"
   ]
  },
  {
   "cell_type": "code",
   "execution_count": 15,
   "metadata": {
    "colab": {
     "base_uri": "https://localhost:8080/"
    },
    "id": "POba6-YFAM5f",
    "outputId": "01fc6f86-498d-4b73-a4d7-fb0bad62c694"
   },
   "outputs": [
    {
     "name": "stdout",
     "output_type": "stream",
     "text": [
      "CPU times: total: 31.2 ms\n",
      "Wall time: 24.6 ms\n"
     ]
    }
   ],
   "source": [
    "%%time\n",
    "x, y, x_history, y_history = BFGS_method(func_H_num, x0, epsilon)"
   ]
  },
  {
   "cell_type": "code",
   "execution_count": 16,
   "metadata": {
    "colab": {
     "base_uri": "https://localhost:8080/"
    },
    "id": "_rCDTdFCAYLm",
    "outputId": "48d7fde8-4406-48d4-bd6e-c4359361b68d"
   },
   "outputs": [
    {
     "data": {
      "text/plain": [
       "{'f': 785, 'grad': 304, 'H': 16}"
      ]
     },
     "execution_count": 16,
     "metadata": {},
     "output_type": "execute_result"
    }
   ],
   "source": [
    "# Число вызовов\n",
    "func_H_num.n_calls"
   ]
  },
  {
   "cell_type": "code",
   "execution_count": null,
   "metadata": {
    "id": "rGa1A09jAYZ8"
   },
   "outputs": [],
   "source": []
  },
  {
   "cell_type": "markdown",
   "metadata": {
    "id": "fAPpUwckI2ZK"
   },
   "source": [
    "### Численные производные"
   ]
  },
  {
   "cell_type": "code",
   "execution_count": 17,
   "metadata": {
    "id": "gGqV5m0bI2wM"
   },
   "outputs": [],
   "source": [
    "# x0 и epsilon такие же"
   ]
  },
  {
   "cell_type": "code",
   "execution_count": 18,
   "metadata": {
    "id": "5OywKDLHI2zV"
   },
   "outputs": [],
   "source": [
    "func_num = Function(\n",
    "    f=task_function,\n",
    "    true_grad=task_true_grad,\n",
    "    true_H=task_true_H,\n",
    "    use_numerical={'grad': True, 'H': True}\n",
    ")"
   ]
  },
  {
   "cell_type": "code",
   "execution_count": 19,
   "metadata": {
    "colab": {
     "base_uri": "https://localhost:8080/"
    },
    "id": "mB9WHxIcI22n",
    "outputId": "a101acdc-6456-49dd-b36f-9cfb615f063e"
   },
   "outputs": [
    {
     "name": "stdout",
     "output_type": "stream",
     "text": [
      "CPU times: total: 78.1 ms\n",
      "Wall time: 79.9 ms\n"
     ]
    }
   ],
   "source": [
    "%%time\n",
    "x, y, x_history, y_history = BFGS_method(func_num, x0, epsilon)"
   ]
  },
  {
   "cell_type": "code",
   "execution_count": 20,
   "metadata": {
    "colab": {
     "base_uri": "https://localhost:8080/"
    },
    "id": "GSzbdn4yI249",
    "outputId": "e9ca41fb-59e5-4742-edb0-d1a800095bc4"
   },
   "outputs": [
    {
     "data": {
      "text/plain": [
       "(-0.3749999762488081, array([0.75008504, 0.50021366, 0.25012805]))"
      ]
     },
     "execution_count": 20,
     "metadata": {},
     "output_type": "execute_result"
    }
   ],
   "source": [
    "y, x"
   ]
  },
  {
   "cell_type": "code",
   "execution_count": 21,
   "metadata": {
    "colab": {
     "base_uri": "https://localhost:8080/"
    },
    "id": "afdLeoIdzCJs",
    "outputId": "81b5e637-82e4-46fa-c13d-5af37551f480"
   },
   "outputs": [
    {
     "data": {
      "text/plain": [
       "{'f': 2609, 'grad': 304, 'H': 16}"
      ]
     },
     "execution_count": 21,
     "metadata": {},
     "output_type": "execute_result"
    }
   ],
   "source": [
    "# Число вызовов\n",
    "func_num.n_calls"
   ]
  },
  {
   "cell_type": "code",
   "execution_count": null,
   "metadata": {
    "colab": {
     "base_uri": "https://localhost:8080/",
     "height": 542
    },
    "id": "tdvwnVoTI27q",
    "outputId": "a9c52e19-e62e-4c03-f86d-2883d8b1a589"
   },
   "outputs": [],
   "source": [
    "# Эволюция параметров по итерациям\n",
    "a, b, c = np.vstack(x_history).T\n",
    "fig = px.line(y=[a, b, c], \n",
    "              template='plotly_dark', \n",
    "              log_y=True)\n",
    "fig.update_layout(\n",
    "    margin_t=0,margin_b=0,\n",
    "    margin_l=0,margin_r=0\n",
    ")\n",
    "fig.show()"
   ]
  },
  {
   "cell_type": "code",
   "execution_count": null,
   "metadata": {
    "colab": {
     "base_uri": "https://localhost:8080/",
     "height": 542
    },
    "id": "NzXDgxg6JEdQ",
    "outputId": "e632a43b-b4f8-4880-9ad4-f2e15c1bcfaf"
   },
   "outputs": [],
   "source": [
    "# Изменение целевой функции по итерациям\n",
    "px.line(y_history, template='plotly_dark')"
   ]
  },
  {
   "cell_type": "code",
   "execution_count": null,
   "metadata": {
    "id": "QtFKkr0tJEfu"
   },
   "outputs": [],
   "source": []
  },
  {
   "cell_type": "markdown",
   "metadata": {
    "id": "4BTF6UY10Rzo"
   },
   "source": [
    "### C эволюцией H"
   ]
  },
  {
   "cell_type": "code",
   "execution_count": 22,
   "metadata": {
    "id": "5S1Gx09jJEiB"
   },
   "outputs": [],
   "source": [
    "# x0 и epsilon такие же"
   ]
  },
  {
   "cell_type": "code",
   "execution_count": 23,
   "metadata": {
    "id": "CairIVD_JEky"
   },
   "outputs": [],
   "source": [
    "func_H = Function(\n",
    "    f=task_function,\n",
    "    true_grad=task_true_grad,\n",
    "    true_H=task_true_H,\n",
    "    use_numerical={'grad': False, 'H': True}\n",
    ")"
   ]
  },
  {
   "cell_type": "code",
   "execution_count": 24,
   "metadata": {
    "colab": {
     "base_uri": "https://localhost:8080/"
    },
    "id": "vgNoZ21u0WXg",
    "outputId": "aa3ea01f-686e-4114-b97b-c63ade00b2f8"
   },
   "outputs": [
    {
     "name": "stdout",
     "output_type": "stream",
     "text": [
      "CPU times: total: 78.1 ms\n",
      "Wall time: 79.2 ms\n"
     ]
    }
   ],
   "source": [
    "%%time\n",
    "x, y, x_history, y_history = BFGS_method_H_evolve(func_num, x0, epsilon)"
   ]
  },
  {
   "cell_type": "code",
   "execution_count": 25,
   "metadata": {
    "colab": {
     "base_uri": "https://localhost:8080/"
    },
    "id": "WGxeAj-c0WaQ",
    "outputId": "4abd7cf6-a1f7-41df-fd7d-0cabd51d223d"
   },
   "outputs": [
    {
     "data": {
      "text/plain": [
       "(-0.3749999762488081, array([0.75008504, 0.50021366, 0.25012805]))"
      ]
     },
     "execution_count": 25,
     "metadata": {},
     "output_type": "execute_result"
    }
   ],
   "source": [
    "y, x"
   ]
  },
  {
   "cell_type": "code",
   "execution_count": 26,
   "metadata": {
    "colab": {
     "base_uri": "https://localhost:8080/"
    },
    "id": "4S4gDM4-0Wcj",
    "outputId": "4451dddb-0bc7-4ce2-a486-3f2b6562a72f"
   },
   "outputs": [
    {
     "data": {
      "text/plain": [
       "{'f': 5410, 'grad': 640, 'H': 32}"
      ]
     },
     "execution_count": 26,
     "metadata": {},
     "output_type": "execute_result"
    }
   ],
   "source": [
    "# Число вызовов\n",
    "func_num.n_calls"
   ]
  },
  {
   "cell_type": "code",
   "execution_count": null,
   "metadata": {
    "colab": {
     "base_uri": "https://localhost:8080/",
     "height": 542
    },
    "id": "HnI3YP5j0Wfb",
    "outputId": "34bb34ac-733f-4c52-b695-1dc22621a496"
   },
   "outputs": [],
   "source": [
    "# Эволюция параметров по итерациям\n",
    "a, b, c = np.vstack(x_history).T\n",
    "fig = px.line(y=[a, b, c], \n",
    "              template='plotly_dark', \n",
    "              log_y=True)\n",
    "fig.update_layout(\n",
    "    margin_t=0,margin_b=0,\n",
    "    margin_l=0,margin_r=0\n",
    ")\n",
    "fig.show()"
   ]
  },
  {
   "cell_type": "code",
   "execution_count": null,
   "metadata": {
    "colab": {
     "base_uri": "https://localhost:8080/",
     "height": 542
    },
    "id": "LAPB27gI0kjo",
    "outputId": "c48f2309-72f2-49bc-89a2-271bb4e8c70b"
   },
   "outputs": [],
   "source": [
    "# Изменение целевой функции по итерациям\n",
    "px.line(y_history, template='plotly_dark')"
   ]
  },
  {
   "cell_type": "code",
   "execution_count": null,
   "metadata": {
    "id": "NE3ELbPD0kqO"
   },
   "outputs": [],
   "source": []
  },
  {
   "cell_type": "code",
   "execution_count": null,
   "metadata": {
    "id": "IZA1jn2O5mKP"
   },
   "outputs": [],
   "source": []
  },
  {
   "cell_type": "markdown",
   "metadata": {
    "id": "JPMNxTpY5mXm"
   },
   "source": [
    "Все реализации находят решение с нужной точностью за 16 итераций.\n",
    "\n",
    "Численные методы тратят заметно больше вызовов фунукций.\n",
    "\n",
    "При этом численные методы находят почти точные производные:"
   ]
  },
  {
   "cell_type": "code",
   "execution_count": 27,
   "metadata": {
    "colab": {
     "base_uri": "https://localhost:8080/"
    },
    "id": "HQR-Lylv59mD",
    "outputId": "909a22c4-7cf6-4281-f033-77501f70fdce"
   },
   "outputs": [
    {
     "data": {
      "text/plain": [
       "(array([-100.99999985,  499.99999959,   99.9999998 ]),\n",
       " array([-101,  500,  100]))"
      ]
     },
     "execution_count": 27,
     "metadata": {},
     "output_type": "execute_result"
    }
   ],
   "source": [
    "func_num.grad(x0), func_true.grad(x0)"
   ]
  },
  {
   "cell_type": "code",
   "execution_count": null,
   "metadata": {
    "id": "VN9QWqym9uOU"
   },
   "outputs": [],
   "source": []
  },
  {
   "cell_type": "code",
   "execution_count": null,
   "metadata": {
    "id": "cD3Y0zqg90bU"
   },
   "outputs": [],
   "source": []
  },
  {
   "cell_type": "code",
   "execution_count": null,
   "metadata": {
    "id": "n42ecQaR93Dk"
   },
   "outputs": [],
   "source": []
  }
 ],
 "metadata": {
  "colab": {
   "provenance": []
  },
  "kernelspec": {
   "display_name": "Python 3 (ipykernel)",
   "language": "python",
   "name": "python3"
  },
  "language_info": {
   "codemirror_mode": {
    "name": "ipython",
    "version": 3
   },
   "file_extension": ".py",
   "mimetype": "text/x-python",
   "name": "python",
   "nbconvert_exporter": "python",
   "pygments_lexer": "ipython3",
   "version": "3.11.5"
  }
 },
 "nbformat": 4,
 "nbformat_minor": 1
}
